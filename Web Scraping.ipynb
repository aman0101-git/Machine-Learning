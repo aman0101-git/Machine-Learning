{
 "cells": [
  {
   "cell_type": "code",
   "execution_count": 10,
   "id": "8327510c",
   "metadata": {},
   "outputs": [
    {
     "name": "stdout",
     "output_type": "stream",
     "text": [
      "Requirement already satisfied: bs4 in c:\\users\\aman\\.conda\\envs\\notebook\\lib\\site-packages (0.0.2)Note: you may need to restart the kernel to use updated packages.\n",
      "\n",
      "Requirement already satisfied: beautifulsoup4 in c:\\users\\aman\\.conda\\envs\\notebook\\lib\\site-packages (from bs4) (4.12.3)\n",
      "Requirement already satisfied: soupsieve>1.2 in c:\\users\\aman\\.conda\\envs\\notebook\\lib\\site-packages (from beautifulsoup4->bs4) (2.5)\n"
     ]
    }
   ],
   "source": [
    "pip install bs4"
   ]
  },
  {
   "cell_type": "code",
   "execution_count": 11,
   "id": "e2445fa6",
   "metadata": {},
   "outputs": [],
   "source": [
    "from bs4 import BeautifulSoup"
   ]
  },
  {
   "cell_type": "code",
   "execution_count": 12,
   "id": "b3e8ce47",
   "metadata": {},
   "outputs": [
    {
     "name": "stdout",
     "output_type": "stream",
     "text": [
      "<html><head><title>Web Scraping</title></head><body><h1>Web Scraping includes three libraries BeautifulSoup, Selenium and Scrapy.</h1><p>In this file we learn about BeautifulSoup in detail.</p></body></html>\n"
     ]
    }
   ],
   "source": [
    "from bs4 import BeautifulSoup\n",
    "html = \"<html><head><title>Web Scraping</title></head><body><h1>Web Scraping includes three libraries BeautifulSoup, Selenium and Scrapy.</h1><p>In this file we learn about BeautifulSoup in detail.</p></body></html>\"\n",
    "data = BeautifulSoup(html, 'html.parser')\n",
    "print(data)\n"
   ]
  },
  {
   "cell_type": "code",
   "execution_count": 13,
   "id": "31b609d8",
   "metadata": {},
   "outputs": [
    {
     "data": {
      "text/plain": [
       "bs4.BeautifulSoup"
      ]
     },
     "execution_count": 13,
     "metadata": {},
     "output_type": "execute_result"
    }
   ],
   "source": [
    "type(data)"
   ]
  },
  {
   "cell_type": "code",
   "execution_count": 14,
   "id": "95c1ec10",
   "metadata": {},
   "outputs": [
    {
     "name": "stdout",
     "output_type": "stream",
     "text": [
      "<html>\n",
      " <head>\n",
      "  <title>\n",
      "   Web Scraping\n",
      "  </title>\n",
      " </head>\n",
      " <body>\n",
      "  <h1>\n",
      "   Web Scraping includes three libraries BeautifulSoup, Selenium and Scrapy.\n",
      "  </h1>\n",
      "  <p>\n",
      "   In this file we learn about BeautifulSoup in detail.\n",
      "  </p>\n",
      " </body>\n",
      "</html>\n",
      "\n"
     ]
    }
   ],
   "source": [
    "print(data.prettify())"
   ]
  },
  {
   "cell_type": "code",
   "execution_count": 15,
   "id": "ba618cd0",
   "metadata": {},
   "outputs": [
    {
     "data": {
      "text/plain": [
       "<title>Web Scraping</title>"
      ]
     },
     "execution_count": 15,
     "metadata": {},
     "output_type": "execute_result"
    }
   ],
   "source": [
    "data.title"
   ]
  },
  {
   "cell_type": "code",
   "execution_count": 16,
   "id": "2ed1fb5b",
   "metadata": {},
   "outputs": [
    {
     "data": {
      "text/plain": [
       "<head><title>Web Scraping</title></head>"
      ]
     },
     "execution_count": 16,
     "metadata": {},
     "output_type": "execute_result"
    }
   ],
   "source": [
    "data.head"
   ]
  },
  {
   "cell_type": "code",
   "execution_count": 17,
   "id": "cc9ac90f",
   "metadata": {},
   "outputs": [
    {
     "data": {
      "text/plain": [
       "<h1>Web Scraping includes three libraries BeautifulSoup, Selenium and Scrapy.</h1>"
      ]
     },
     "execution_count": 17,
     "metadata": {},
     "output_type": "execute_result"
    }
   ],
   "source": [
    "data.h1"
   ]
  },
  {
   "cell_type": "code",
   "execution_count": 19,
   "id": "7cc13ff6",
   "metadata": {},
   "outputs": [
    {
     "data": {
      "text/plain": [
       "<p>In this file we learn about BeautifulSoup in detail.</p>"
      ]
     },
     "execution_count": 19,
     "metadata": {},
     "output_type": "execute_result"
    }
   ],
   "source": [
    "data.p"
   ]
  },
  {
   "cell_type": "code",
   "execution_count": 20,
   "id": "f3a02a08",
   "metadata": {},
   "outputs": [
    {
     "data": {
      "text/plain": [
       "'title'"
      ]
     },
     "execution_count": 20,
     "metadata": {},
     "output_type": "execute_result"
    }
   ],
   "source": [
    "data.title.name"
   ]
  },
  {
   "cell_type": "code",
   "execution_count": 21,
   "id": "752c032f",
   "metadata": {},
   "outputs": [
    {
     "data": {
      "text/plain": [
       "'Web Scraping'"
      ]
     },
     "execution_count": 21,
     "metadata": {},
     "output_type": "execute_result"
    }
   ],
   "source": [
    "data.title.string"
   ]
  },
  {
   "cell_type": "code",
   "execution_count": 22,
   "id": "c67ecedf",
   "metadata": {},
   "outputs": [
    {
     "data": {
      "text/plain": [
       "{}"
      ]
     },
     "execution_count": 22,
     "metadata": {},
     "output_type": "execute_result"
    }
   ],
   "source": [
    "data.title.attrs"
   ]
  },
  {
   "cell_type": "code",
   "execution_count": 24,
   "id": "12c7eaa3",
   "metadata": {},
   "outputs": [
    {
     "data": {
      "text/plain": [
       "'Web ScrapingWeb Scraping includes three libraries BeautifulSoup, Selenium and Scrapy.In this file we learn about BeautifulSoup in detail.'"
      ]
     },
     "execution_count": 24,
     "metadata": {},
     "output_type": "execute_result"
    }
   ],
   "source": [
    "data.get_text()"
   ]
  },
  {
   "cell_type": "code",
   "execution_count": 25,
   "id": "ac4eca43",
   "metadata": {},
   "outputs": [
    {
     "data": {
      "text/plain": [
       "<p>In this file we learn about BeautifulSoup in detail.</p>"
      ]
     },
     "execution_count": 25,
     "metadata": {},
     "output_type": "execute_result"
    }
   ],
   "source": [
    "data.find('p')"
   ]
  },
  {
   "cell_type": "code",
   "execution_count": 26,
   "id": "8478054d",
   "metadata": {},
   "outputs": [
    {
     "data": {
      "text/plain": [
       "[<p>In this file we learn about BeautifulSoup in detail.</p>]"
      ]
     },
     "execution_count": 26,
     "metadata": {},
     "output_type": "execute_result"
    }
   ],
   "source": [
    "data.find_all('p')"
   ]
  },
  {
   "cell_type": "markdown",
   "id": "2136ebe2",
   "metadata": {},
   "source": [
    "### Navigate Parse Tree"
   ]
  },
  {
   "cell_type": "code",
   "execution_count": 1,
   "id": "1fd9107f",
   "metadata": {},
   "outputs": [],
   "source": [
    "from bs4 import BeautifulSoup"
   ]
  },
  {
   "cell_type": "code",
   "execution_count": 3,
   "id": "10bc41aa",
   "metadata": {},
   "outputs": [
    {
     "name": "stdout",
     "output_type": "stream",
     "text": [
      "<!DOCTYPE html>\n",
      "<html><head><title> Testing Web Page </title></head><body><h1> Web Scraping </h1><p id=\"first_para\">Let's start learning <b>Web Scraping</b></p><p class=\"abc\" id=\"second_para\">You can read more about BeautifulSoup from <a href=\"https://www.crummy.com/software/BeautifulSoup/bs4/doc/\"> here </a></p><p class=\"abc\"><a href=\"https://codingninjas.in/\"> Coding Ninjas </a></p></body></html>\n"
     ]
    }
   ],
   "source": [
    "html= '<!DOCTYPE html>\\\n",
    "<html>\\\n",
    "<head>\\\n",
    "<title> Testing Web Page </title>\\\n",
    "</head>\\\n",
    "<body>\\\n",
    "<h1> Web Scraping </h1>\\\n",
    "<p id= \"first_para\">\\\n",
    "Let\\'s start learning \\\n",
    "<b>\\\n",
    "Web Scraping\\\n",
    "</b>\\\n",
    "</p>\\\n",
    "<p class=\"abc\" id=\"second_para\">\\\n",
    "You can read more about BeautifulSoup from <a href=\"https://www.crummy.com/software/BeautifulSoup/bs4/doc/\"> here </a>\\\n",
    "</p>\\\n",
    "<p class= \"abc\">\\\n",
    "<a href = \"https://codingninjas.in/\"> Coding Ninjas </a>\\\n",
    "</p>\\\n",
    "</body>\\\n",
    "</html>'\n",
    "\n",
    "data = BeautifulSoup(html, 'html.parser')\n",
    "print(data)"
   ]
  },
  {
   "cell_type": "code",
   "execution_count": 4,
   "id": "492cbab5",
   "metadata": {},
   "outputs": [
    {
     "data": {
      "text/plain": [
       "bs4.BeautifulSoup"
      ]
     },
     "execution_count": 4,
     "metadata": {},
     "output_type": "execute_result"
    }
   ],
   "source": [
    "type(data)"
   ]
  },
  {
   "cell_type": "code",
   "execution_count": 6,
   "id": "56429870",
   "metadata": {},
   "outputs": [
    {
     "data": {
      "text/plain": [
       "[<p id=\"first_para\">Let's start learning <b>Web Scraping</b></p>,\n",
       " <p class=\"abc\" id=\"second_para\">You can read more about BeautifulSoup from <a href=\"https://www.crummy.com/software/BeautifulSoup/bs4/doc/\"> here </a></p>,\n",
       " <a href=\"https://www.crummy.com/software/BeautifulSoup/bs4/doc/\"> here </a>,\n",
       " <p class=\"abc\"><a href=\"https://codingninjas.in/\"> Coding Ninjas </a></p>,\n",
       " <a href=\"https://codingninjas.in/\"> Coding Ninjas </a>]"
      ]
     },
     "execution_count": 6,
     "metadata": {},
     "output_type": "execute_result"
    }
   ],
   "source": [
    "data.find_all(['p','a'])"
   ]
  },
  {
   "cell_type": "code",
   "execution_count": 7,
   "id": "85d2365a",
   "metadata": {},
   "outputs": [
    {
     "data": {
      "text/plain": [
       "[<html><head><title> Testing Web Page </title></head><body><h1> Web Scraping </h1><p id=\"first_para\">Let's start learning <b>Web Scraping</b></p><p class=\"abc\" id=\"second_para\">You can read more about BeautifulSoup from <a href=\"https://www.crummy.com/software/BeautifulSoup/bs4/doc/\"> here </a></p><p class=\"abc\"><a href=\"https://codingninjas.in/\"> Coding Ninjas </a></p></body></html>,\n",
       " <head><title> Testing Web Page </title></head>,\n",
       " <title> Testing Web Page </title>,\n",
       " <body><h1> Web Scraping </h1><p id=\"first_para\">Let's start learning <b>Web Scraping</b></p><p class=\"abc\" id=\"second_para\">You can read more about BeautifulSoup from <a href=\"https://www.crummy.com/software/BeautifulSoup/bs4/doc/\"> here </a></p><p class=\"abc\"><a href=\"https://codingninjas.in/\"> Coding Ninjas </a></p></body>,\n",
       " <h1> Web Scraping </h1>,\n",
       " <p id=\"first_para\">Let's start learning <b>Web Scraping</b></p>,\n",
       " <b>Web Scraping</b>,\n",
       " <p class=\"abc\" id=\"second_para\">You can read more about BeautifulSoup from <a href=\"https://www.crummy.com/software/BeautifulSoup/bs4/doc/\"> here </a></p>,\n",
       " <a href=\"https://www.crummy.com/software/BeautifulSoup/bs4/doc/\"> here </a>,\n",
       " <p class=\"abc\"><a href=\"https://codingninjas.in/\"> Coding Ninjas </a></p>,\n",
       " <a href=\"https://codingninjas.in/\"> Coding Ninjas </a>]"
      ]
     },
     "execution_count": 7,
     "metadata": {},
     "output_type": "execute_result"
    }
   ],
   "source": [
    "data.find_all(True)"
   ]
  },
  {
   "cell_type": "code",
   "execution_count": 8,
   "id": "1b59ec4e",
   "metadata": {},
   "outputs": [
    {
     "data": {
      "text/plain": [
       "[<p id=\"first_para\">Let's start learning <b>Web Scraping</b></p>]"
      ]
     },
     "execution_count": 8,
     "metadata": {},
     "output_type": "execute_result"
    }
   ],
   "source": [
    "data.find_all(id='first_para')"
   ]
  },
  {
   "cell_type": "code",
   "execution_count": 14,
   "id": "53bf598e",
   "metadata": {},
   "outputs": [
    {
     "name": "stdout",
     "output_type": "stream",
     "text": [
      "None\n",
      "None\n",
      " Coding Ninjas \n"
     ]
    }
   ],
   "source": [
    "li=data.find_all('p')\n",
    "for i in li:\n",
    "    print(i.string)"
   ]
  },
  {
   "cell_type": "code",
   "execution_count": 17,
   "id": "f1ebaee9",
   "metadata": {},
   "outputs": [
    {
     "name": "stdout",
     "output_type": "stream",
     "text": [
      "[\"Let's start learning \", 'Web Scraping']\n",
      "['You can read more about BeautifulSoup from ', ' here ']\n",
      "[' Coding Ninjas ']\n"
     ]
    }
   ],
   "source": [
    "li=data.find_all('p')\n",
    "for i in li:\n",
    "    print(list(i.strings))"
   ]
  },
  {
   "cell_type": "code",
   "execution_count": 19,
   "id": "dcd0bbd0",
   "metadata": {},
   "outputs": [
    {
     "name": "stdout",
     "output_type": "stream",
     "text": [
      "[\"Let's start learning\", 'Web Scraping']\n",
      "['You can read more about BeautifulSoup from', 'here']\n",
      "['Coding Ninjas']\n"
     ]
    }
   ],
   "source": [
    "for i in li:\n",
    "    print(list(i.stripped_strings))"
   ]
  },
  {
   "cell_type": "code",
   "execution_count": 20,
   "id": "d1ec995c",
   "metadata": {},
   "outputs": [
    {
     "name": "stdout",
     "output_type": "stream",
     "text": [
      "2\n"
     ]
    }
   ],
   "source": [
    "li=data.html.contents\n",
    "print(len(li))"
   ]
  },
  {
   "cell_type": "code",
   "execution_count": 23,
   "id": "3bcc175c",
   "metadata": {},
   "outputs": [
    {
     "name": "stdout",
     "output_type": "stream",
     "text": [
      "<head><title> Testing Web Page </title></head>\n",
      "<body><h1> Web Scraping </h1><p id=\"first_para\">Let's start learning <b>Web Scraping</b></p><p class=\"abc\" id=\"second_para\">You can read more about BeautifulSoup from <a href=\"https://www.crummy.com/software/BeautifulSoup/bs4/doc/\"> here </a></p><p class=\"abc\"><a href=\"https://codingninjas.in/\"> Coding Ninjas </a></p></body>\n"
     ]
    }
   ],
   "source": [
    "li=data.html.children\n",
    "for i in li:\n",
    "    print(i)"
   ]
  },
  {
   "cell_type": "code",
   "execution_count": 25,
   "id": "cf310012",
   "metadata": {},
   "outputs": [
    {
     "name": "stdout",
     "output_type": "stream",
     "text": [
      "17\n"
     ]
    }
   ],
   "source": [
    "desc=list(data.html.descendants)\n",
    "print(len(desc))"
   ]
  },
  {
   "cell_type": "code",
   "execution_count": 26,
   "id": "cd25a12d",
   "metadata": {},
   "outputs": [
    {
     "data": {
      "text/plain": [
       "[<head><title> Testing Web Page </title></head>,\n",
       " <title> Testing Web Page </title>,\n",
       " ' Testing Web Page ',\n",
       " <body><h1> Web Scraping </h1><p id=\"first_para\">Let's start learning <b>Web Scraping</b></p><p class=\"abc\" id=\"second_para\">You can read more about BeautifulSoup from <a href=\"https://www.crummy.com/software/BeautifulSoup/bs4/doc/\"> here </a></p><p class=\"abc\"><a href=\"https://codingninjas.in/\"> Coding Ninjas </a></p></body>,\n",
       " <h1> Web Scraping </h1>,\n",
       " ' Web Scraping ',\n",
       " <p id=\"first_para\">Let's start learning <b>Web Scraping</b></p>,\n",
       " \"Let's start learning \",\n",
       " <b>Web Scraping</b>,\n",
       " 'Web Scraping',\n",
       " <p class=\"abc\" id=\"second_para\">You can read more about BeautifulSoup from <a href=\"https://www.crummy.com/software/BeautifulSoup/bs4/doc/\"> here </a></p>,\n",
       " 'You can read more about BeautifulSoup from ',\n",
       " <a href=\"https://www.crummy.com/software/BeautifulSoup/bs4/doc/\"> here </a>,\n",
       " ' here ',\n",
       " <p class=\"abc\"><a href=\"https://codingninjas.in/\"> Coding Ninjas </a></p>,\n",
       " <a href=\"https://codingninjas.in/\"> Coding Ninjas </a>,\n",
       " ' Coding Ninjas ']"
      ]
     },
     "execution_count": 26,
     "metadata": {},
     "output_type": "execute_result"
    }
   ],
   "source": [
    "desc"
   ]
  },
  {
   "cell_type": "code",
   "execution_count": 28,
   "id": "33a57331",
   "metadata": {},
   "outputs": [
    {
     "data": {
      "text/plain": [
       "<!DOCTYPE html>\n",
       "<html><head><title> Testing Web Page </title></head><body><h1> Web Scraping </h1><p id=\"first_para\">Let's start learning <b>Web Scraping</b></p><p class=\"abc\" id=\"second_para\">You can read more about BeautifulSoup from <a href=\"https://www.crummy.com/software/BeautifulSoup/bs4/doc/\"> here </a></p><p class=\"abc\"><a href=\"https://codingninjas.in/\"> Coding Ninjas </a></p></body></html>"
      ]
     },
     "execution_count": 28,
     "metadata": {},
     "output_type": "execute_result"
    }
   ],
   "source": [
    "data.html.parent"
   ]
  },
  {
   "cell_type": "code",
   "execution_count": 31,
   "id": "f770db18",
   "metadata": {},
   "outputs": [
    {
     "data": {
      "text/plain": [
       "<body><h1> Web Scraping </h1><p id=\"first_para\">Let's start learning <b>Web Scraping</b></p><p class=\"abc\" id=\"second_para\">You can read more about BeautifulSoup from <a href=\"https://www.crummy.com/software/BeautifulSoup/bs4/doc/\"> here </a></p><p class=\"abc\"><a href=\"https://codingninjas.in/\"> Coding Ninjas </a></p></body>"
      ]
     },
     "execution_count": 31,
     "metadata": {},
     "output_type": "execute_result"
    }
   ],
   "source": [
    "data.head.next_sibling"
   ]
  },
  {
   "cell_type": "code",
   "execution_count": 32,
   "id": "7d726a19",
   "metadata": {},
   "outputs": [
    {
     "data": {
      "text/plain": [
       "<title> Testing Web Page </title>"
      ]
     },
     "execution_count": 32,
     "metadata": {},
     "output_type": "execute_result"
    }
   ],
   "source": [
    "data.head.next_element"
   ]
  },
  {
   "cell_type": "code",
   "execution_count": null,
   "id": "5b2a8247",
   "metadata": {},
   "outputs": [],
   "source": []
  }
 ],
 "metadata": {
  "kernelspec": {
   "display_name": "Python 3 (ipykernel)",
   "language": "python",
   "name": "python3"
  },
  "language_info": {
   "codemirror_mode": {
    "name": "ipython",
    "version": 3
   },
   "file_extension": ".py",
   "mimetype": "text/x-python",
   "name": "python",
   "nbconvert_exporter": "python",
   "pygments_lexer": "ipython3",
   "version": "3.8.19"
  }
 },
 "nbformat": 4,
 "nbformat_minor": 5
}
