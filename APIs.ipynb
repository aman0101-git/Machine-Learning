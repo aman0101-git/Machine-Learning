{
 "cells": [
  {
   "cell_type": "code",
   "execution_count": 1,
   "id": "bc067e6d",
   "metadata": {},
   "outputs": [
    {
     "name": "stdout",
     "output_type": "stream",
     "text": [
      "Requirement already satisfied: requests in c:\\users\\aman\\.conda\\envs\\notebook\\lib\\site-packages (2.32.3)\n",
      "Requirement already satisfied: charset-normalizer<4,>=2 in c:\\users\\aman\\.conda\\envs\\notebook\\lib\\site-packages (from requests) (3.3.2)\n",
      "Requirement already satisfied: idna<4,>=2.5 in c:\\users\\aman\\.conda\\envs\\notebook\\lib\\site-packages (from requests) (3.10)\n",
      "Requirement already satisfied: urllib3<3,>=1.21.1 in c:\\users\\aman\\.conda\\envs\\notebook\\lib\\site-packages (from requests) (2.2.3)\n",
      "Requirement already satisfied: certifi>=2017.4.17 in c:\\users\\aman\\.conda\\envs\\notebook\\lib\\site-packages (from requests) (2024.8.30)\n",
      "Note: you may need to restart the kernel to use updated packages.\n"
     ]
    }
   ],
   "source": [
    "pip install requests"
   ]
  },
  {
   "cell_type": "code",
   "execution_count": 10,
   "id": "aa4b611e",
   "metadata": {},
   "outputs": [
    {
     "name": "stdout",
     "output_type": "stream",
     "text": [
      "200\n",
      "ISO-8859-1\n",
      "https://www.codingninjas.com:443/\n",
      "{'Content-Type': 'text/html', 'Transfer-Encoding': 'chunked', 'Connection': 'keep-alive', 'x-amz-id-2': 'e2MxmWk661MdSUznv9G9GcvZ6ZPNSHMqnxKVGBa3Hf280z9vBV2C0nRwvxeuz51U1zhLEeyhlTg=', 'x-amz-request-id': '7FNC7NBDNNWT6ZXH', 'Last-Modified': 'Fri, 25 Oct 2024 11:57:18 GMT', 'Server': 'AmazonS3', 'Content-Encoding': 'gzip', 'Date': 'Mon, 28 Oct 2024 13:02:31 GMT', 'Cache-Control': 'must-revalidate, max-age=300', 'ETag': 'W/\"0231cf98ff14adf6d264d25f56a957b2\"', 'Vary': 'Accept-Encoding', 'X-Cache': 'Hit from cloudfront', 'Via': '1.1 64e6f0571303e7ef4315d50b91314078.cloudfront.net (CloudFront)', 'X-Amz-Cf-Pop': 'PNQ50-P1', 'X-Amz-Cf-Id': 'ScYvyOnOgh74QcSDWtmB8Q75z_KG8-bYb-teF5RJoaFPAbjYvaEoiw==', 'Age': '11'}\n",
      "<class 'requests.structures.CaseInsensitiveDict'>\n",
      "Mon, 28 Oct 2024 13:02:31 GMT\n"
     ]
    }
   ],
   "source": [
    "import requests\n",
    "response=requests.get(\"https://codingninjas.in/api/v3/courses\")\n",
    "print(response.status_code)\n",
    "print(response.encoding)\n",
    "print(response.url)\n",
    "#print(response.text)\n",
    "print(response.headers)\n",
    "print(type(response.headers))\n",
    "header_info=response.headers\n",
    "print(header_info['Date'])"
   ]
  },
  {
   "cell_type": "code",
   "execution_count": 14,
   "id": "7076ec74",
   "metadata": {},
   "outputs": [
    {
     "name": "stdout",
     "output_type": "stream",
     "text": [
      "{'Student': 'Aman'}\n",
      "<class 'dict'>\n",
      "Aman\n"
     ]
    }
   ],
   "source": [
    "import json\n",
    "json_data='{\"Student\":\"Aman\"}'\n",
    "python_data=json.loads(json_data)\n",
    "print(python_data)\n",
    "print(type(python_data))\n",
    "print(python_data['Student'])"
   ]
  },
  {
   "cell_type": "code",
   "execution_count": 18,
   "id": "a226b024",
   "metadata": {},
   "outputs": [
    {
     "name": "stdout",
     "output_type": "stream",
     "text": [
      "101.11\n",
      "<class 'float'>\n"
     ]
    }
   ],
   "source": [
    "json_data='{\"Student\":101.11}'\n",
    "python_data=json.loads(json_data)\n",
    "print(python_data['Student'])\n",
    "print(type(python_data['Student']))"
   ]
  },
  {
   "cell_type": "code",
   "execution_count": 20,
   "id": "a7301921",
   "metadata": {},
   "outputs": [
    {
     "name": "stdout",
     "output_type": "stream",
     "text": [
      "None\n",
      "<class 'NoneType'>\n"
     ]
    }
   ],
   "source": [
    "json_data='{\"Student\":null}'\n",
    "python_data=json.loads(json_data)\n",
    "print(python_data['Student'])\n",
    "print(type(python_data['Student']))"
   ]
  },
  {
   "cell_type": "code",
   "execution_count": 14,
   "id": "db672789",
   "metadata": {},
   "outputs": [
    {
     "name": "stdout",
     "output_type": "stream",
     "text": [
      "{'students': [{'name': 'Aman', 'roll_no': 101}, {'name2': 'Bhagya', 'roll_no': 102}]}\n",
      "<class 'dict'>\n",
      "[{'name': 'Aman', 'roll_no': 101}, {'name2': 'Bhagya', 'roll_no': 102}]\n"
     ]
    }
   ],
   "source": [
    "import json\n",
    "json_data='{\"students\":[{\"name\":\"Aman\",\"roll_no\":101},{\"name2\":\"Bhagya\",\"roll_no\":102}]}'\n",
    "python_data=json.loads(json_data)\n",
    "print(python_data)\n",
    "print(type(python_data))\n",
    "print(python_data[\"students\"])"
   ]
  },
  {
   "cell_type": "code",
   "execution_count": 21,
   "id": "afc5dbd7",
   "metadata": {},
   "outputs": [
    {
     "name": "stdout",
     "output_type": "stream",
     "text": [
      "{'Fruits': ['mango', 'orange', 'banana', 'apple']}\n",
      "<class 'dict'>\n",
      "4\n",
      "mango\n",
      "orange\n",
      "banana\n",
      "apple\n"
     ]
    }
   ],
   "source": [
    "json_data='{\"Fruits\":[\"mango\",\"orange\",\"banana\",\"apple\"]}'\n",
    "python_data=json.loads(json_data)\n",
    "print(python_data)\n",
    "print(type(python_data))\n",
    "print(len(python_data[\"Fruits\"]))\n",
    "for i in python_data[\"Fruits\"]:\n",
    "    print(i)"
   ]
  },
  {
   "cell_type": "code",
   "execution_count": 23,
   "id": "9c28430b",
   "metadata": {},
   "outputs": [
    {
     "name": "stdout",
     "output_type": "stream",
     "text": [
      "{\"message\":{\"affenpinscher\":[],\"african\":[],\"airedale\":[],\"akita\":[],\"appenzeller\":[],\"australian\":[\"kelpie\",\"shepherd\"],\"bakharwal\":[\"indian\"],\"basenji\":[],\"beagle\":[],\"bluetick\":[],\"borzoi\":[],\"bouvier\":[],\"boxer\":[],\"brabancon\":[],\"briard\":[],\"buhund\":[\"norwegian\"],\"bulldog\":[\"boston\",\"english\",\"french\"],\"bullterrier\":[\"staffordshire\"],\"cattledog\":[\"australian\"],\"cavapoo\":[],\"chihuahua\":[],\"chippiparai\":[\"indian\"],\"chow\":[],\"clumber\":[],\"cockapoo\":[],\"collie\":[\"border\"],\"coonhound\":[],\"corgi\":[\"cardigan\"],\"cotondetulear\":[],\"dachshund\":[],\"dalmatian\":[],\"dane\":[\"great\"],\"danish\":[\"swedish\"],\"deerhound\":[\"scottish\"],\"dhole\":[],\"dingo\":[],\"doberman\":[],\"elkhound\":[\"norwegian\"],\"entlebucher\":[],\"eskimo\":[],\"finnish\":[\"lapphund\"],\"frise\":[\"bichon\"],\"gaddi\":[\"indian\"],\"germanshepherd\":[],\"greyhound\":[\"indian\",\"italian\"],\"groenendael\":[],\"havanese\":[],\"hound\":[\"afghan\",\"basset\",\"blood\",\"english\",\"ibizan\",\"plott\",\"walker\"],\"husky\":[],\"keeshond\":[],\"kelpie\":[],\"kombai\":[],\"komondor\":[],\"kuvasz\":[],\"labradoodle\":[],\"labrador\":[],\"leonberg\":[],\"lhasa\":[],\"malamute\":[],\"malinois\":[],\"maltese\":[],\"mastiff\":[\"bull\",\"english\",\"indian\",\"tibetan\"],\"mexicanhairless\":[],\"mix\":[],\"mountain\":[\"bernese\",\"swiss\"],\"mudhol\":[\"indian\"],\"newfoundland\":[],\"otterhound\":[],\"ovcharka\":[\"caucasian\"],\"papillon\":[],\"pariah\":[\"indian\"],\"pekinese\":[],\"pembroke\":[],\"pinscher\":[\"miniature\"],\"pitbull\":[],\"pointer\":[\"german\",\"germanlonghair\"],\"pomeranian\":[],\"poodle\":[\"medium\",\"miniature\",\"standard\",\"toy\"],\"pug\":[],\"puggle\":[],\"pyrenees\":[],\"rajapalayam\":[\"indian\"],\"redbone\":[],\"retriever\":[\"chesapeake\",\"curly\",\"flatcoated\",\"golden\"],\"ridgeback\":[\"rhodesian\"],\"rottweiler\":[],\"saluki\":[],\"samoyed\":[],\"schipperke\":[],\"schnauzer\":[\"giant\",\"miniature\"],\"segugio\":[\"italian\"],\"setter\":[\"english\",\"gordon\",\"irish\"],\"sharpei\":[],\"sheepdog\":[\"english\",\"indian\",\"shetland\"],\"shiba\":[],\"shihtzu\":[],\"spaniel\":[\"blenheim\",\"brittany\",\"cocker\",\"irish\",\"japanese\",\"sussex\",\"welsh\"],\"spitz\":[\"indian\",\"japanese\"],\"springer\":[\"english\"],\"stbernard\":[],\"terrier\":[\"american\",\"australian\",\"bedlington\",\"border\",\"cairn\",\"dandie\",\"fox\",\"irish\",\"kerryblue\",\"lakeland\",\"norfolk\",\"norwich\",\"patterdale\",\"russell\",\"scottish\",\"sealyham\",\"silky\",\"tibetan\",\"toy\",\"welsh\",\"westhighland\",\"wheaten\",\"yorkshire\"],\"tervuren\":[],\"vizsla\":[],\"waterdog\":[\"spanish\"],\"weimaraner\":[],\"whippet\":[],\"wolfhound\":[\"irish\"]},\"status\":\"success\"}\n",
      "<class 'dict'>\n",
      "affenpinscher : 0\n",
      "african : 0\n",
      "airedale : 0\n",
      "akita : 0\n",
      "appenzeller : 0\n",
      "australian : 2\n",
      "bakharwal : 1\n",
      "basenji : 0\n",
      "beagle : 0\n",
      "bluetick : 0\n",
      "borzoi : 0\n",
      "bouvier : 0\n",
      "boxer : 0\n",
      "brabancon : 0\n",
      "briard : 0\n",
      "buhund : 1\n",
      "bulldog : 3\n",
      "bullterrier : 1\n",
      "cattledog : 1\n",
      "cavapoo : 0\n",
      "chihuahua : 0\n",
      "chippiparai : 1\n",
      "chow : 0\n",
      "clumber : 0\n",
      "cockapoo : 0\n",
      "collie : 1\n",
      "coonhound : 0\n",
      "corgi : 1\n",
      "cotondetulear : 0\n",
      "dachshund : 0\n",
      "dalmatian : 0\n",
      "dane : 1\n",
      "danish : 1\n",
      "deerhound : 1\n",
      "dhole : 0\n",
      "dingo : 0\n",
      "doberman : 0\n",
      "elkhound : 1\n",
      "entlebucher : 0\n",
      "eskimo : 0\n",
      "finnish : 1\n",
      "frise : 1\n",
      "gaddi : 1\n",
      "germanshepherd : 0\n",
      "greyhound : 2\n",
      "groenendael : 0\n",
      "havanese : 0\n",
      "hound : 7\n",
      "husky : 0\n",
      "keeshond : 0\n",
      "kelpie : 0\n",
      "kombai : 0\n",
      "komondor : 0\n",
      "kuvasz : 0\n",
      "labradoodle : 0\n",
      "labrador : 0\n",
      "leonberg : 0\n",
      "lhasa : 0\n",
      "malamute : 0\n",
      "malinois : 0\n",
      "maltese : 0\n",
      "mastiff : 4\n",
      "mexicanhairless : 0\n",
      "mix : 0\n",
      "mountain : 2\n",
      "mudhol : 1\n",
      "newfoundland : 0\n",
      "otterhound : 0\n",
      "ovcharka : 1\n",
      "papillon : 0\n",
      "pariah : 1\n",
      "pekinese : 0\n",
      "pembroke : 0\n",
      "pinscher : 1\n",
      "pitbull : 0\n",
      "pointer : 2\n",
      "pomeranian : 0\n",
      "poodle : 4\n",
      "pug : 0\n",
      "puggle : 0\n",
      "pyrenees : 0\n",
      "rajapalayam : 1\n",
      "redbone : 0\n",
      "retriever : 4\n",
      "ridgeback : 1\n",
      "rottweiler : 0\n",
      "saluki : 0\n",
      "samoyed : 0\n",
      "schipperke : 0\n",
      "schnauzer : 2\n",
      "segugio : 1\n",
      "setter : 3\n",
      "sharpei : 0\n",
      "sheepdog : 3\n",
      "shiba : 0\n",
      "shihtzu : 0\n",
      "spaniel : 7\n",
      "spitz : 2\n",
      "springer : 1\n",
      "stbernard : 0\n",
      "terrier : 23\n",
      "tervuren : 0\n",
      "vizsla : 0\n",
      "waterdog : 1\n",
      "weimaraner : 0\n",
      "whippet : 0\n",
      "wolfhound : 1\n",
      "boston\n",
      "english\n",
      "french\n"
     ]
    }
   ],
   "source": [
    "p=requests.get('https://dog.ceo/api/breeds/list/all')\n",
    "print(p.text)\n",
    "python_data=p.json()\n",
    "print(type(python_data))\n",
    "for key,val in python_data[\"message\"].items():\n",
    "    print(key,\":\",len(val))\n",
    "    \n",
    "for i in python_data[\"message\"][\"bulldog\"]:\n",
    "    print(i)"
   ]
  },
  {
   "cell_type": "markdown",
   "id": "09c5037a",
   "metadata": {},
   "source": [
    "### API Parameters"
   ]
  },
  {
   "cell_type": "code",
   "execution_count": 6,
   "id": "ec2b15f5",
   "metadata": {},
   "outputs": [
    {
     "name": "stdout",
     "output_type": "stream",
     "text": [
      "200\n",
      "https://api.nasa.gov/planetary/apod?api_key=DEMO_KEY\n"
     ]
    }
   ],
   "source": [
    "import requests\n",
    "a=requests.get('https://api.nasa.gov/planetary/apod',params={\"api_key\":\"DEMO_KEY\"})\n",
    "print(a.status_code)\n",
    "print(a.url)"
   ]
  },
  {
   "cell_type": "markdown",
   "id": "ef5370ce",
   "metadata": {},
   "source": [
    "### Post Requests"
   ]
  },
  {
   "cell_type": "code",
   "execution_count": 9,
   "id": "d224eba9",
   "metadata": {},
   "outputs": [
    {
     "name": "stdout",
     "output_type": "stream",
     "text": [
      "<Response [200]>\n",
      "{\n",
      "  \"args\": {}, \n",
      "  \"data\": \"\", \n",
      "  \"files\": {}, \n",
      "  \"form\": {}, \n",
      "  \"headers\": {\n",
      "    \"Accept\": \"*/*\", \n",
      "    \"Accept-Encoding\": \"gzip, deflate\", \n",
      "    \"Content-Length\": \"0\", \n",
      "    \"Host\": \"httpbin.org\", \n",
      "    \"User-Agent\": \"python-requests/2.32.3\", \n",
      "    \"X-Amzn-Trace-Id\": \"Root=1-6721b375-4a2604277a1f7dac11994f0b\"\n",
      "  }, \n",
      "  \"json\": null, \n",
      "  \"origin\": \"152.58.31.229\", \n",
      "  \"url\": \"https://httpbin.org/post\"\n",
      "}\n",
      "\n"
     ]
    }
   ],
   "source": [
    "import requests\n",
    "response=requests.post('https://httpbin.org/post')\n",
    "print(response)\n",
    "print(response.text)"
   ]
  },
  {
   "cell_type": "code",
   "execution_count": 10,
   "id": "8148b083",
   "metadata": {},
   "outputs": [
    {
     "name": "stdout",
     "output_type": "stream",
     "text": [
      "<Response [200]>\n",
      "{\n",
      "  \"args\": {}, \n",
      "  \"data\": \"\", \n",
      "  \"files\": {}, \n",
      "  \"form\": {\n",
      "    \"key1\": \"val1\", \n",
      "    \"key2\": \"val2\"\n",
      "  }, \n",
      "  \"headers\": {\n",
      "    \"Accept\": \"*/*\", \n",
      "    \"Accept-Encoding\": \"gzip, deflate\", \n",
      "    \"Content-Length\": \"19\", \n",
      "    \"Content-Type\": \"application/x-www-form-urlencoded\", \n",
      "    \"Host\": \"httpbin.org\", \n",
      "    \"User-Agent\": \"python-requests/2.32.3\", \n",
      "    \"X-Amzn-Trace-Id\": \"Root=1-6721b3d6-5b9ea36607de5a936a66c415\"\n",
      "  }, \n",
      "  \"json\": null, \n",
      "  \"origin\": \"152.58.17.234\", \n",
      "  \"url\": \"https://httpbin.org/post\"\n",
      "}\n",
      "\n"
     ]
    }
   ],
   "source": [
    "import requests\n",
    "response=requests.post('https://httpbin.org/post',data={\"key1\":\"val1\",\"key2\":\"val2\"})\n",
    "print(response)\n",
    "print(response.text)"
   ]
  },
  {
   "cell_type": "code",
   "execution_count": 13,
   "id": "c2b30085",
   "metadata": {},
   "outputs": [
    {
     "name": "stdout",
     "output_type": "stream",
     "text": [
      "{\n",
      "  \"args\": {}, \n",
      "  \"data\": \"\", \n",
      "  \"files\": {}, \n",
      "  \"form\": {\n",
      "    \"key1\": \"val2\", \n",
      "    \"key2\": \"val1\", \n",
      "    \"key3\": \"val3\"\n",
      "  }, \n",
      "  \"headers\": {\n",
      "    \"Accept\": \"*/*\", \n",
      "    \"Accept-Encoding\": \"gzip, deflate\", \n",
      "    \"Content-Length\": \"29\", \n",
      "    \"Content-Type\": \"application/x-www-form-urlencoded\", \n",
      "    \"Host\": \"httpbin.org\", \n",
      "    \"User-Agent\": \"python-requests/2.32.3\", \n",
      "    \"X-Amzn-Trace-Id\": \"Root=1-6721b4bd-68526c23531196c359451fdb\"\n",
      "  }, \n",
      "  \"json\": null, \n",
      "  \"origin\": \"152.58.31.229\", \n",
      "  \"url\": \"https://httpbin.org/post\"\n",
      "}\n",
      "\n"
     ]
    }
   ],
   "source": [
    "import requests\n",
    "response=requests.post('https://httpbin.org/post',data=[('key1','val2'),('key2','val1'),('key3','val3')])\n",
    "print(response.text)"
   ]
  }
 ],
 "metadata": {
  "kernelspec": {
   "display_name": "Python 3 (ipykernel)",
   "language": "python",
   "name": "python3"
  },
  "language_info": {
   "codemirror_mode": {
    "name": "ipython",
    "version": 3
   },
   "file_extension": ".py",
   "mimetype": "text/x-python",
   "name": "python",
   "nbconvert_exporter": "python",
   "pygments_lexer": "ipython3",
   "version": "3.8.19"
  }
 },
 "nbformat": 4,
 "nbformat_minor": 5
}
